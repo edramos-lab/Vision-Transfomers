{
  "cells": [
    {
      "cell_type": "markdown",
      "metadata": {
        "id": "view-in-github",
        "colab_type": "text"
      },
      "source": [
        "<a href=\"https://colab.research.google.com/github/edramos-lab/Vision-Transfomers/blob/main/Baseplates_DeiT_k_folded_deit.ipynb\" target=\"_parent\"><img src=\"https://colab.research.google.com/assets/colab-badge.svg\" alt=\"Open In Colab\"/></a>"
      ]
    },
    {
      "cell_type": "code",
      "execution_count": 52,
      "metadata": {
        "colab": {
          "base_uri": "https://localhost:8080/"
        },
        "id": "gGSzN2fvUiD6",
        "outputId": "88923aae-014f-42a8-fa8c-b4fa01ea94ca"
      },
      "outputs": [
        {
          "output_type": "stream",
          "name": "stdout",
          "text": [
            "Looking in indexes: https://pypi.org/simple, https://us-python.pkg.dev/colab-wheels/public/simple/\n",
            "Requirement already satisfied: wandb in /usr/local/lib/python3.10/dist-packages (0.15.1)\n",
            "Requirement already satisfied: sentry-sdk>=1.0.0 in /usr/local/lib/python3.10/dist-packages (from wandb) (1.21.1)\n",
            "Requirement already satisfied: psutil>=5.0.0 in /usr/local/lib/python3.10/dist-packages (from wandb) (5.9.5)\n",
            "Requirement already satisfied: setuptools in /usr/local/lib/python3.10/dist-packages (from wandb) (67.7.2)\n",
            "Requirement already satisfied: Click!=8.0.0,>=7.0 in /usr/local/lib/python3.10/dist-packages (from wandb) (8.1.3)\n",
            "Requirement already satisfied: PyYAML in /usr/local/lib/python3.10/dist-packages (from wandb) (6.0)\n",
            "Requirement already satisfied: protobuf!=4.21.0,<5,>=3.19.0 in /usr/local/lib/python3.10/dist-packages (from wandb) (3.20.3)\n",
            "Requirement already satisfied: requests<3,>=2.0.0 in /usr/local/lib/python3.10/dist-packages (from wandb) (2.27.1)\n",
            "Requirement already satisfied: pathtools in /usr/local/lib/python3.10/dist-packages (from wandb) (0.1.2)\n",
            "Requirement already satisfied: setproctitle in /usr/local/lib/python3.10/dist-packages (from wandb) (1.3.2)\n",
            "Requirement already satisfied: docker-pycreds>=0.4.0 in /usr/local/lib/python3.10/dist-packages (from wandb) (0.4.0)\n",
            "Requirement already satisfied: appdirs>=1.4.3 in /usr/local/lib/python3.10/dist-packages (from wandb) (1.4.4)\n",
            "Requirement already satisfied: GitPython!=3.1.29,>=1.0.0 in /usr/local/lib/python3.10/dist-packages (from wandb) (3.1.31)\n",
            "Requirement already satisfied: six>=1.4.0 in /usr/local/lib/python3.10/dist-packages (from docker-pycreds>=0.4.0->wandb) (1.16.0)\n",
            "Requirement already satisfied: gitdb<5,>=4.0.1 in /usr/local/lib/python3.10/dist-packages (from GitPython!=3.1.29,>=1.0.0->wandb) (4.0.10)\n",
            "Requirement already satisfied: certifi>=2017.4.17 in /usr/local/lib/python3.10/dist-packages (from requests<3,>=2.0.0->wandb) (2022.12.7)\n",
            "Requirement already satisfied: idna<4,>=2.5 in /usr/local/lib/python3.10/dist-packages (from requests<3,>=2.0.0->wandb) (2.10)\n",
            "Requirement already satisfied: charset-normalizer~=2.0.0 in /usr/local/lib/python3.10/dist-packages (from requests<3,>=2.0.0->wandb) (2.0.12)\n",
            "Requirement already satisfied: urllib3<1.27,>=1.21.1 in /usr/local/lib/python3.10/dist-packages (from requests<3,>=2.0.0->wandb) (1.26.15)\n",
            "Requirement already satisfied: smmap<6,>=3.0.1 in /usr/local/lib/python3.10/dist-packages (from gitdb<5,>=4.0.1->GitPython!=3.1.29,>=1.0.0->wandb) (5.0.0)\n",
            "Looking in indexes: https://pypi.org/simple, https://us-python.pkg.dev/colab-wheels/public/simple/\n",
            "\u001b[31mERROR: Could not find a version that satisfies the requirement tensorflow-addons==0.8.3 (from versions: 0.16.1, 0.17.0, 0.17.1, 0.18.0, 0.19.0, 0.20.0)\u001b[0m\u001b[31m\n",
            "\u001b[0m\u001b[31mERROR: No matching distribution found for tensorflow-addons==0.8.3\u001b[0m\u001b[31m\n",
            "\u001b[0mLooking in indexes: https://pypi.org/simple, https://us-python.pkg.dev/colab-wheels/public/simple/\n",
            "Requirement already satisfied: tensorflow in /usr/local/lib/python3.10/dist-packages (2.12.0)\n",
            "Requirement already satisfied: h5py>=2.9.0 in /usr/local/lib/python3.10/dist-packages (from tensorflow) (3.8.0)\n",
            "Requirement already satisfied: opt-einsum>=2.3.2 in /usr/local/lib/python3.10/dist-packages (from tensorflow) (3.3.0)\n",
            "Requirement already satisfied: six>=1.12.0 in /usr/local/lib/python3.10/dist-packages (from tensorflow) (1.16.0)\n",
            "Requirement already satisfied: termcolor>=1.1.0 in /usr/local/lib/python3.10/dist-packages (from tensorflow) (2.3.0)\n",
            "Requirement already satisfied: tensorflow-estimator<2.13,>=2.12.0 in /usr/local/lib/python3.10/dist-packages (from tensorflow) (2.12.0)\n",
            "Requirement already satisfied: tensorboard<2.13,>=2.12 in /usr/local/lib/python3.10/dist-packages (from tensorflow) (2.12.2)\n",
            "Requirement already satisfied: packaging in /usr/local/lib/python3.10/dist-packages (from tensorflow) (23.1)\n",
            "Requirement already satisfied: protobuf!=4.21.0,!=4.21.1,!=4.21.2,!=4.21.3,!=4.21.4,!=4.21.5,<5.0.0dev,>=3.20.3 in /usr/local/lib/python3.10/dist-packages (from tensorflow) (3.20.3)\n",
            "Requirement already satisfied: setuptools in /usr/local/lib/python3.10/dist-packages (from tensorflow) (67.7.2)\n",
            "Requirement already satisfied: astunparse>=1.6.0 in /usr/local/lib/python3.10/dist-packages (from tensorflow) (1.6.3)\n",
            "Requirement already satisfied: libclang>=13.0.0 in /usr/local/lib/python3.10/dist-packages (from tensorflow) (16.0.0)\n",
            "Requirement already satisfied: absl-py>=1.0.0 in /usr/local/lib/python3.10/dist-packages (from tensorflow) (1.4.0)\n",
            "Requirement already satisfied: gast<=0.4.0,>=0.2.1 in /usr/local/lib/python3.10/dist-packages (from tensorflow) (0.4.0)\n",
            "Requirement already satisfied: typing-extensions>=3.6.6 in /usr/local/lib/python3.10/dist-packages (from tensorflow) (4.5.0)\n",
            "Requirement already satisfied: grpcio<2.0,>=1.24.3 in /usr/local/lib/python3.10/dist-packages (from tensorflow) (1.54.0)\n",
            "Requirement already satisfied: wrapt<1.15,>=1.11.0 in /usr/local/lib/python3.10/dist-packages (from tensorflow) (1.14.1)\n",
            "Requirement already satisfied: jax>=0.3.15 in /usr/local/lib/python3.10/dist-packages (from tensorflow) (0.4.8)\n",
            "Requirement already satisfied: google-pasta>=0.1.1 in /usr/local/lib/python3.10/dist-packages (from tensorflow) (0.2.0)\n",
            "Requirement already satisfied: tensorflow-io-gcs-filesystem>=0.23.1 in /usr/local/lib/python3.10/dist-packages (from tensorflow) (0.32.0)\n",
            "Requirement already satisfied: numpy<1.24,>=1.22 in /usr/local/lib/python3.10/dist-packages (from tensorflow) (1.22.4)\n",
            "Requirement already satisfied: keras<2.13,>=2.12.0 in /usr/local/lib/python3.10/dist-packages (from tensorflow) (2.12.0)\n",
            "Requirement already satisfied: flatbuffers>=2.0 in /usr/local/lib/python3.10/dist-packages (from tensorflow) (23.3.3)\n",
            "Requirement already satisfied: wheel<1.0,>=0.23.0 in /usr/local/lib/python3.10/dist-packages (from astunparse>=1.6.0->tensorflow) (0.40.0)\n",
            "Requirement already satisfied: scipy>=1.7 in /usr/local/lib/python3.10/dist-packages (from jax>=0.3.15->tensorflow) (1.10.1)\n",
            "Requirement already satisfied: ml-dtypes>=0.0.3 in /usr/local/lib/python3.10/dist-packages (from jax>=0.3.15->tensorflow) (0.1.0)\n",
            "Requirement already satisfied: tensorboard-data-server<0.8.0,>=0.7.0 in /usr/local/lib/python3.10/dist-packages (from tensorboard<2.13,>=2.12->tensorflow) (0.7.0)\n",
            "Requirement already satisfied: google-auth-oauthlib<1.1,>=0.5 in /usr/local/lib/python3.10/dist-packages (from tensorboard<2.13,>=2.12->tensorflow) (1.0.0)\n",
            "Requirement already satisfied: werkzeug>=1.0.1 in /usr/local/lib/python3.10/dist-packages (from tensorboard<2.13,>=2.12->tensorflow) (2.3.0)\n",
            "Requirement already satisfied: requests<3,>=2.21.0 in /usr/local/lib/python3.10/dist-packages (from tensorboard<2.13,>=2.12->tensorflow) (2.27.1)\n",
            "Requirement already satisfied: tensorboard-plugin-wit>=1.6.0 in /usr/local/lib/python3.10/dist-packages (from tensorboard<2.13,>=2.12->tensorflow) (1.8.1)\n",
            "Requirement already satisfied: markdown>=2.6.8 in /usr/local/lib/python3.10/dist-packages (from tensorboard<2.13,>=2.12->tensorflow) (3.4.3)\n",
            "Requirement already satisfied: google-auth<3,>=1.6.3 in /usr/local/lib/python3.10/dist-packages (from tensorboard<2.13,>=2.12->tensorflow) (2.17.3)\n",
            "Requirement already satisfied: cachetools<6.0,>=2.0.0 in /usr/local/lib/python3.10/dist-packages (from google-auth<3,>=1.6.3->tensorboard<2.13,>=2.12->tensorflow) (5.3.0)\n",
            "Requirement already satisfied: rsa<5,>=3.1.4 in /usr/local/lib/python3.10/dist-packages (from google-auth<3,>=1.6.3->tensorboard<2.13,>=2.12->tensorflow) (4.9)\n",
            "Requirement already satisfied: pyasn1-modules>=0.2.1 in /usr/local/lib/python3.10/dist-packages (from google-auth<3,>=1.6.3->tensorboard<2.13,>=2.12->tensorflow) (0.3.0)\n",
            "Requirement already satisfied: requests-oauthlib>=0.7.0 in /usr/local/lib/python3.10/dist-packages (from google-auth-oauthlib<1.1,>=0.5->tensorboard<2.13,>=2.12->tensorflow) (1.3.1)\n",
            "Requirement already satisfied: urllib3<1.27,>=1.21.1 in /usr/local/lib/python3.10/dist-packages (from requests<3,>=2.21.0->tensorboard<2.13,>=2.12->tensorflow) (1.26.15)\n",
            "Requirement already satisfied: idna<4,>=2.5 in /usr/local/lib/python3.10/dist-packages (from requests<3,>=2.21.0->tensorboard<2.13,>=2.12->tensorflow) (2.10)\n",
            "Requirement already satisfied: charset-normalizer~=2.0.0 in /usr/local/lib/python3.10/dist-packages (from requests<3,>=2.21.0->tensorboard<2.13,>=2.12->tensorflow) (2.0.12)\n",
            "Requirement already satisfied: certifi>=2017.4.17 in /usr/local/lib/python3.10/dist-packages (from requests<3,>=2.21.0->tensorboard<2.13,>=2.12->tensorflow) (2022.12.7)\n",
            "Requirement already satisfied: MarkupSafe>=2.1.1 in /usr/local/lib/python3.10/dist-packages (from werkzeug>=1.0.1->tensorboard<2.13,>=2.12->tensorflow) (2.1.2)\n",
            "Requirement already satisfied: pyasn1<0.6.0,>=0.4.6 in /usr/local/lib/python3.10/dist-packages (from pyasn1-modules>=0.2.1->google-auth<3,>=1.6.3->tensorboard<2.13,>=2.12->tensorflow) (0.5.0)\n",
            "Requirement already satisfied: oauthlib>=3.0.0 in /usr/local/lib/python3.10/dist-packages (from requests-oauthlib>=0.7.0->google-auth-oauthlib<1.1,>=0.5->tensorboard<2.13,>=2.12->tensorflow) (3.2.2)\n",
            "Looking in indexes: https://pypi.org/simple, https://us-python.pkg.dev/colab-wheels/public/simple/\n",
            "Requirement already satisfied: roboflow in /usr/local/lib/python3.10/dist-packages (1.0.8)\n",
            "Requirement already satisfied: pyparsing==2.4.7 in /usr/local/lib/python3.10/dist-packages (from roboflow) (2.4.7)\n",
            "Requirement already satisfied: opencv-python>=4.1.2 in /usr/local/lib/python3.10/dist-packages (from roboflow) (4.7.0.72)\n",
            "Requirement already satisfied: kiwisolver>=1.3.1 in /usr/local/lib/python3.10/dist-packages (from roboflow) (1.4.4)\n",
            "Requirement already satisfied: cycler==0.10.0 in /usr/local/lib/python3.10/dist-packages (from roboflow) (0.10.0)\n",
            "Requirement already satisfied: Pillow>=7.1.2 in /usr/local/lib/python3.10/dist-packages (from roboflow) (8.4.0)\n",
            "Requirement already satisfied: tqdm>=4.41.0 in /usr/local/lib/python3.10/dist-packages (from roboflow) (4.65.0)\n",
            "Requirement already satisfied: requests-toolbelt in /usr/local/lib/python3.10/dist-packages (from roboflow) (1.0.0)\n",
            "Requirement already satisfied: certifi==2022.12.7 in /usr/local/lib/python3.10/dist-packages (from roboflow) (2022.12.7)\n",
            "Requirement already satisfied: python-dateutil in /usr/local/lib/python3.10/dist-packages (from roboflow) (2.8.2)\n",
            "Requirement already satisfied: chardet==4.0.0 in /usr/local/lib/python3.10/dist-packages (from roboflow) (4.0.0)\n",
            "Requirement already satisfied: idna==2.10 in /usr/local/lib/python3.10/dist-packages (from roboflow) (2.10)\n",
            "Requirement already satisfied: requests in /usr/local/lib/python3.10/dist-packages (from roboflow) (2.27.1)\n",
            "Requirement already satisfied: PyYAML>=5.3.1 in /usr/local/lib/python3.10/dist-packages (from roboflow) (6.0)\n",
            "Requirement already satisfied: matplotlib in /usr/local/lib/python3.10/dist-packages (from roboflow) (3.7.1)\n",
            "Requirement already satisfied: numpy>=1.18.5 in /usr/local/lib/python3.10/dist-packages (from roboflow) (1.22.4)\n",
            "Requirement already satisfied: six in /usr/local/lib/python3.10/dist-packages (from roboflow) (1.16.0)\n",
            "Requirement already satisfied: urllib3>=1.26.6 in /usr/local/lib/python3.10/dist-packages (from roboflow) (1.26.15)\n",
            "Requirement already satisfied: python-dotenv in /usr/local/lib/python3.10/dist-packages (from roboflow) (1.0.0)\n",
            "Requirement already satisfied: wget in /usr/local/lib/python3.10/dist-packages (from roboflow) (3.2)\n",
            "Requirement already satisfied: packaging>=20.0 in /usr/local/lib/python3.10/dist-packages (from matplotlib->roboflow) (23.1)\n",
            "Requirement already satisfied: fonttools>=4.22.0 in /usr/local/lib/python3.10/dist-packages (from matplotlib->roboflow) (4.39.3)\n",
            "Requirement already satisfied: contourpy>=1.0.1 in /usr/local/lib/python3.10/dist-packages (from matplotlib->roboflow) (1.0.7)\n",
            "Requirement already satisfied: charset-normalizer~=2.0.0 in /usr/local/lib/python3.10/dist-packages (from requests->roboflow) (2.0.12)\n",
            "Looking in indexes: https://pypi.org/simple, https://us-python.pkg.dev/colab-wheels/public/simple/\n",
            "Requirement already satisfied: timm in /usr/local/lib/python3.10/dist-packages (0.6.13)\n",
            "Requirement already satisfied: pyyaml in /usr/local/lib/python3.10/dist-packages (from timm) (6.0)\n",
            "Requirement already satisfied: huggingface-hub in /usr/local/lib/python3.10/dist-packages (from timm) (0.14.1)\n",
            "Requirement already satisfied: torchvision in /usr/local/lib/python3.10/dist-packages (from timm) (0.15.1+cu118)\n",
            "Requirement already satisfied: torch>=1.7 in /usr/local/lib/python3.10/dist-packages (from timm) (2.0.0+cu118)\n",
            "Requirement already satisfied: networkx in /usr/local/lib/python3.10/dist-packages (from torch>=1.7->timm) (3.1)\n",
            "Requirement already satisfied: typing-extensions in /usr/local/lib/python3.10/dist-packages (from torch>=1.7->timm) (4.5.0)\n",
            "Requirement already satisfied: sympy in /usr/local/lib/python3.10/dist-packages (from torch>=1.7->timm) (1.11.1)\n",
            "Requirement already satisfied: jinja2 in /usr/local/lib/python3.10/dist-packages (from torch>=1.7->timm) (3.1.2)\n",
            "Requirement already satisfied: triton==2.0.0 in /usr/local/lib/python3.10/dist-packages (from torch>=1.7->timm) (2.0.0)\n",
            "Requirement already satisfied: filelock in /usr/local/lib/python3.10/dist-packages (from torch>=1.7->timm) (3.12.0)\n",
            "Requirement already satisfied: cmake in /usr/local/lib/python3.10/dist-packages (from triton==2.0.0->torch>=1.7->timm) (3.25.2)\n",
            "Requirement already satisfied: lit in /usr/local/lib/python3.10/dist-packages (from triton==2.0.0->torch>=1.7->timm) (16.0.2)\n",
            "Requirement already satisfied: tqdm>=4.42.1 in /usr/local/lib/python3.10/dist-packages (from huggingface-hub->timm) (4.65.0)\n",
            "Requirement already satisfied: packaging>=20.9 in /usr/local/lib/python3.10/dist-packages (from huggingface-hub->timm) (23.1)\n",
            "Requirement already satisfied: requests in /usr/local/lib/python3.10/dist-packages (from huggingface-hub->timm) (2.27.1)\n",
            "Requirement already satisfied: fsspec in /usr/local/lib/python3.10/dist-packages (from huggingface-hub->timm) (2023.4.0)\n",
            "Requirement already satisfied: pillow!=8.3.*,>=5.3.0 in /usr/local/lib/python3.10/dist-packages (from torchvision->timm) (8.4.0)\n",
            "Requirement already satisfied: numpy in /usr/local/lib/python3.10/dist-packages (from torchvision->timm) (1.22.4)\n",
            "Requirement already satisfied: MarkupSafe>=2.0 in /usr/local/lib/python3.10/dist-packages (from jinja2->torch>=1.7->timm) (2.1.2)\n",
            "Requirement already satisfied: idna<4,>=2.5 in /usr/local/lib/python3.10/dist-packages (from requests->huggingface-hub->timm) (2.10)\n",
            "Requirement already satisfied: charset-normalizer~=2.0.0 in /usr/local/lib/python3.10/dist-packages (from requests->huggingface-hub->timm) (2.0.12)\n",
            "Requirement already satisfied: urllib3<1.27,>=1.21.1 in /usr/local/lib/python3.10/dist-packages (from requests->huggingface-hub->timm) (1.26.15)\n",
            "Requirement already satisfied: certifi>=2017.4.17 in /usr/local/lib/python3.10/dist-packages (from requests->huggingface-hub->timm) (2022.12.7)\n",
            "Requirement already satisfied: mpmath>=0.19 in /usr/local/lib/python3.10/dist-packages (from sympy->torch>=1.7->timm) (1.3.0)\n"
          ]
        }
      ],
      "source": [
        "!pip install wandb --upgrade\n",
        "!pip install tensorflow-addons==0.8.3\n",
        "!pip install tensorflow\n",
        "!pip install roboflow\n",
        "!pip install timm"
      ]
    },
    {
      "cell_type": "code",
      "execution_count": 53,
      "metadata": {
        "id": "9CQ7YCXvTnD_"
      },
      "outputs": [],
      "source": [
        "import torch\n",
        "import torch.nn as nn\n",
        "import torchvision.transforms as transforms\n",
        "\n",
        "from torch.utils.data import DataLoader\n",
        "from torch.optim import Adam\n",
        "from torch.optim.lr_scheduler import StepLR\n",
        "from sklearn.model_selection import KFold\n",
        "\n",
        "\n",
        "import torchvision.datasets as datasets\n",
        "from torch.utils.data import DataLoader,random_split,SubsetRandomSampler\n",
        "import wandb\n",
        "import numpy as np\n",
        "import timm\n",
        "# Import W&B\n",
        "import wandb\n",
        "from wandb.keras import WandbCallback\n",
        "import matplotlib.pyplot as plt\n",
        "import os\n",
        "import torch\n",
        "from torchvision.datasets import ImageFolder\n",
        "from torch.utils.data import Subset, DataLoader, random_split, SubsetRandomSampler\n",
        "from torch.optim.lr_scheduler import StepLR\n",
        "from sklearn.model_selection import KFold\n",
        "os.environ[\"WANDB_START_METHOD\"] = \"thread\""
      ]
    },
    {
      "cell_type": "code",
      "execution_count": 54,
      "metadata": {
        "id": "oI938JJSUovR",
        "colab": {
          "base_uri": "https://localhost:8080/"
        },
        "outputId": "ea8bae76-dc57-4bb2-f94f-83108ebb303e"
      },
      "outputs": [
        {
          "output_type": "stream",
          "name": "stdout",
          "text": [
            "Looking in indexes: https://pypi.org/simple, https://us-python.pkg.dev/colab-wheels/public/simple/\n",
            "Requirement already satisfied: roboflow in /usr/local/lib/python3.10/dist-packages (1.0.8)\n",
            "Requirement already satisfied: PyYAML>=5.3.1 in /usr/local/lib/python3.10/dist-packages (from roboflow) (6.0)\n",
            "Requirement already satisfied: wget in /usr/local/lib/python3.10/dist-packages (from roboflow) (3.2)\n",
            "Requirement already satisfied: kiwisolver>=1.3.1 in /usr/local/lib/python3.10/dist-packages (from roboflow) (1.4.4)\n",
            "Requirement already satisfied: cycler==0.10.0 in /usr/local/lib/python3.10/dist-packages (from roboflow) (0.10.0)\n",
            "Requirement already satisfied: matplotlib in /usr/local/lib/python3.10/dist-packages (from roboflow) (3.7.1)\n",
            "Requirement already satisfied: requests-toolbelt in /usr/local/lib/python3.10/dist-packages (from roboflow) (1.0.0)\n",
            "Requirement already satisfied: idna==2.10 in /usr/local/lib/python3.10/dist-packages (from roboflow) (2.10)\n",
            "Requirement already satisfied: Pillow>=7.1.2 in /usr/local/lib/python3.10/dist-packages (from roboflow) (8.4.0)\n",
            "Requirement already satisfied: urllib3>=1.26.6 in /usr/local/lib/python3.10/dist-packages (from roboflow) (1.26.15)\n",
            "Requirement already satisfied: numpy>=1.18.5 in /usr/local/lib/python3.10/dist-packages (from roboflow) (1.22.4)\n",
            "Requirement already satisfied: certifi==2022.12.7 in /usr/local/lib/python3.10/dist-packages (from roboflow) (2022.12.7)\n",
            "Requirement already satisfied: requests in /usr/local/lib/python3.10/dist-packages (from roboflow) (2.27.1)\n",
            "Requirement already satisfied: opencv-python>=4.1.2 in /usr/local/lib/python3.10/dist-packages (from roboflow) (4.7.0.72)\n",
            "Requirement already satisfied: six in /usr/local/lib/python3.10/dist-packages (from roboflow) (1.16.0)\n",
            "Requirement already satisfied: python-dotenv in /usr/local/lib/python3.10/dist-packages (from roboflow) (1.0.0)\n",
            "Requirement already satisfied: tqdm>=4.41.0 in /usr/local/lib/python3.10/dist-packages (from roboflow) (4.65.0)\n",
            "Requirement already satisfied: pyparsing==2.4.7 in /usr/local/lib/python3.10/dist-packages (from roboflow) (2.4.7)\n",
            "Requirement already satisfied: python-dateutil in /usr/local/lib/python3.10/dist-packages (from roboflow) (2.8.2)\n",
            "Requirement already satisfied: chardet==4.0.0 in /usr/local/lib/python3.10/dist-packages (from roboflow) (4.0.0)\n",
            "Requirement already satisfied: contourpy>=1.0.1 in /usr/local/lib/python3.10/dist-packages (from matplotlib->roboflow) (1.0.7)\n",
            "Requirement already satisfied: fonttools>=4.22.0 in /usr/local/lib/python3.10/dist-packages (from matplotlib->roboflow) (4.39.3)\n",
            "Requirement already satisfied: packaging>=20.0 in /usr/local/lib/python3.10/dist-packages (from matplotlib->roboflow) (23.1)\n",
            "Requirement already satisfied: charset-normalizer~=2.0.0 in /usr/local/lib/python3.10/dist-packages (from requests->roboflow) (2.0.12)\n",
            "loading Roboflow workspace...\n",
            "loading Roboflow project...\n",
            "Downloading Dataset Version Zip in nigel-chassises-1 to folder: 100% [324393333 / 324393333] bytes\n"
          ]
        },
        {
          "output_type": "stream",
          "name": "stderr",
          "text": [
            "Extracting Dataset Version Zip to nigel-chassises-1 in folder:: 100%|██████████| 6103/6103 [00:01<00:00, 4476.52it/s]\n"
          ]
        }
      ],
      "source": [
        "!pip install roboflow\n",
        "\n",
        "from roboflow import Roboflow\n",
        "rf = Roboflow(api_key=\"Zj3z1BE0KBeUDmEdARjg\")\n",
        "project = rf.workspace(\"edgar-rene-ramos-acosta-uabc-edu-mx\").project(\"nigel-chassises\")\n",
        "dataset = project.version(1).download(\"folder\")\n",
        "\n",
        "\n",
        "\n",
        "#from roboflow import Roboflow\n",
        "#rf = Roboflow(api_key=\"wv1RWb130ECTfhxSNxPS\")\n",
        "#project = rf.workspace(\"footdiseaseimgclass\").project(\"things-jam67\")\n",
        "#dataset = project.version(1).download(\"folder\")\n"
      ]
    },
    {
      "cell_type": "code",
      "source": [
        "import os\n",
        "\n",
        "path = '/content/nigel-chassises-1/train'\n",
        "subfolders = [f.name for f in os.scandir(path) if f.is_dir()]\n",
        "class_names = sorted(subfolders)\n",
        "\n",
        "print(class_names)\n"
      ],
      "metadata": {
        "id": "JTXoZEkq2RUW",
        "colab": {
          "base_uri": "https://localhost:8080/"
        },
        "outputId": "9e21905a-b9d7-49e4-81a0-1703c7aa3db5"
      },
      "execution_count": 55,
      "outputs": [
        {
          "output_type": "stream",
          "name": "stdout",
          "text": [
            "['Class1', 'Class2', 'Class3', 'Class4', 'Class5', 'Class6']\n"
          ]
        }
      ]
    },
    {
      "cell_type": "code",
      "execution_count": 56,
      "metadata": {
        "id": "LEFUQ56DUrFv"
      },
      "outputs": [],
      "source": [
        "# Define the data transforms\n",
        "# Define the transform for the input images\n",
        "IMG_SIZE=224\n",
        "\n",
        "train_transforms = transforms.Compose([\n",
        "    transforms.Resize((IMG_SIZE,IMG_SIZE)),  # resize the input image\n",
        "    transforms.ToTensor(),  # convert to tensor\n",
        "    transforms.ColorJitter(0.5,0.5,0.5),\n",
        "    transforms.RandomAffine(degrees=20,translate=None, scale=None, shear=20),\n",
        "    transforms.RandomHorizontalFlip(),\n",
        "    transforms.RandomVerticalFlip(),\n",
        "    transforms.Normalize(mean=[0.485, 0.456, 0.406], std=[0.229, 0.224, 0.225])  # normalize the input image\n",
        "])\n",
        "\n",
        "valid_transforms = transforms.Compose([\n",
        "    transforms.Resize((IMG_SIZE,IMG_SIZE)),\n",
        "    transforms.ToTensor(),\n",
        "    transforms.Normalize(mean=[0.485, 0.456, 0.406], std=[0.229, 0.224, 0.225])\n",
        "])\n",
        "\n",
        "    \n",
        "test_transforms = transforms.Compose([\n",
        "    transforms.Resize((IMG_SIZE,IMG_SIZE)),\n",
        "    transforms.ToTensor(),\n",
        "    transforms.Normalize(mean=[0.485, 0.456, 0.406], std=[0.229, 0.224, 0.225])\n",
        "]) \n",
        "\"\"\"\n",
        "# Define the transform for the input images\n",
        "train_transforms = transforms.Compose([\n",
        "    transforms.Resize((224, 224)),  # resize the input image\n",
        "    transforms.ToTensor(),  # convert to tensor\n",
        "    transforms.Normalize(mean=[0.485, 0.456, 0.406], std=[0.229, 0.224, 0.225])  # normalize the input image\n",
        "])\n",
        "\n",
        "valid_transforms = transforms.Compose([\n",
        "    transforms.Resize(224),\n",
        "    transforms.CenterCrop(224),\n",
        "    transforms.ToTensor(),\n",
        "    transforms.Normalize(mean=[0.485, 0.456, 0.406], std=[0.229, 0.224, 0.225])\n",
        "])\n",
        "\n",
        "    \n",
        "test_transforms = transforms.Compose([\n",
        "    transforms.Resize(224),\n",
        "    transforms.CenterCrop(224),\n",
        "    transforms.ToTensor(),\n",
        "    transforms.Normalize(mean=[0.485, 0.456, 0.406], std=[0.229, 0.224, 0.225])\n",
        "])\n",
        "\"\"\"\n",
        "\n",
        "train_data= datasets.ImageFolder('/content/nigel-chassises-1/train', transform=train_transforms)\n",
        "valid_data = datasets.ImageFolder('/content/nigel-chassises-1/valid', transform=valid_transforms)\n",
        "test_data = datasets.ImageFolder('/content/nigel-chassises-1/test', transform=test_transforms)\n",
        "test_loader = DataLoader(test_data, batch_size=1, shuffle=False)\n"
      ]
    },
    {
      "cell_type": "code",
      "source": [
        "# Define the train-validation split ratio\n",
        "train_ratio = .75\n",
        "val_ratio = 1-train_ratio\n",
        "\n",
        "# Define the indices of the full dataset\n",
        "dataset_size = len(train_data)\n",
        "indices = list(range(dataset_size))\n",
        "\n",
        "# Split the indices into train and validation indices\n",
        "train_size = int(train_ratio * dataset_size)\n",
        "val_size = dataset_size - train_size\n",
        "train_indices, val_indices = random_split(indices, [train_size, val_size], generator=torch.Generator().manual_seed(42))\n",
        "\n",
        "# Create a Subset of the ImageFolder dataset using the train_indices\n",
        "train_subset = Subset(train_data, train_indices)\n",
        "\n",
        "# Split the train subset into train and validation sets\n",
        "train_subset_size = len(train_subset)\n",
        "train_indices_subset = list(range(train_subset_size))\n",
        "train_size_subset = int(train_ratio * train_subset_size)\n",
        "val_size_subset = train_subset_size - train_size_subset\n",
        "train_indices_subset, val_indices_subset = random_split(train_indices_subset, [train_size_subset, val_size_subset], generator=torch.Generator().manual_seed(42))\n",
        "\n",
        "# Create SubsetRandomSampler for train and validation indices\n",
        "train_sampler = SubsetRandomSampler(train_indices_subset)\n",
        "val_sampler = SubsetRandomSampler(val_indices_subset)"
      ],
      "metadata": {
        "id": "Lm8lh_HXuWwD"
      },
      "execution_count": 57,
      "outputs": []
    },
    {
      "cell_type": "code",
      "source": [
        "train_data=train_subset"
      ],
      "metadata": {
        "id": "cfzLoyTMum_u"
      },
      "execution_count": 58,
      "outputs": []
    },
    {
      "cell_type": "code",
      "execution_count": 59,
      "metadata": {
        "id": "V3ZJ-AHhYnWY"
      },
      "outputs": [],
      "source": [
        "def testing(test_loader):  \n",
        "  y_pred=[]\n",
        "  y_scores=[]\n",
        "  y_true=[]\n",
        "  all_preds=[]\n",
        "  all_targets=[]\n",
        "  with torch.no_grad():\n",
        "      for images, labels in test_loader:\n",
        "          images = images.to(device)\n",
        "          labels = labels.to(device)\n",
        "          outputs = model(images)\n",
        "          _, preds = torch.max(outputs.data, 1)\n",
        "\n",
        "                  # append the labels to the lists\n",
        "          y_true += labels.tolist()\n",
        "          y_pred += preds.tolist()\n",
        "                  # Append the preds scores and true labels to the lists\n",
        "          all_preds.extend(preds.cpu().numpy())\n",
        "                    # append the predicted scores to the list\n",
        "          y_scores += torch.softmax(outputs, dim=1).tolist()\n",
        "          all_targets.extend(labels.cpu().numpy())\n",
        "\n",
        "\n",
        "  # Convert the lists to NumPy arrays\n",
        "  all_preds = np.array(all_preds)\n",
        "  all_targets = np.array(all_targets)\n",
        "\n",
        "  from sklearn.metrics import classification_report,precision_score,accuracy_score,recall_score,f1_score,cohen_kappa_score,matthews_corrcoef, confusion_matrix,roc_curve,auc\n",
        "  import seaborn as sns\n",
        "  import matplotlib.pyplot as plt\n",
        "\n",
        "  cm = confusion_matrix(all_targets, all_preds)\n",
        "  \n",
        "  #sns.heatmap(cm, annot=True, cmap='Blues')\n",
        "  # plot the confusion matrix as a heatmap\n",
        "    # Create a Matplotlib figure with class names\n",
        "  fig, ax = plt.subplots()\n",
        "  im = ax.imshow(cm, interpolation='nearest', cmap='Blues')\n",
        "  ax.set(xticks=np.arange(cm.shape[1]),\n",
        "        yticks=np.arange(cm.shape[0]),\n",
        "        xticklabels=class_names, yticklabels=class_names,\n",
        "        title='Confusion matrix',\n",
        "        ylabel='True label',\n",
        "        xlabel='Predicted label')\n",
        "  plt.setp(ax.get_xticklabels(), rotation=45, ha=\"right\",\n",
        "          rotation_mode=\"anchor\")\n",
        "  fmt = 'd'\n",
        "  thresh = cm.max() / 2.\n",
        "  for i in range(cm.shape[0]):\n",
        "      for j in range(cm.shape[1]):\n",
        "          ax.text(j, i, format(cm[i, j], fmt),\n",
        "                  ha=\"center\", va=\"center\",\n",
        "                  color=\"white\" if cm[i, j] > thresh else \"black\")\n",
        "  fig.tight_layout()\n",
        "\n",
        "\n",
        "  # log the confusion matrix to WandB\n",
        "  wandb.log({'confusion_matrix': wandb.Image(fig)})\n",
        "  # ROC\n",
        "  wandb.log({\"roc\": wandb.plots.ROC(y_true, y_scores, labels=class_names)})\n",
        "\n",
        "  # Precision Recall\n",
        "  wandb.log({'pr': wandb.plots.precision_recall(y_true, y_scores, class_names)})\n",
        "\n",
        "  # Learning Curve\n",
        "  #wandb.sklearn.plot_learning_curve(model, images, labels)\n",
        "\n",
        "  # Confusion Matrix\n",
        "  wandb.log({'CM': wandb.sklearn.plot_confusion_matrix(y_true, y_pred, labels=class_names)})\n",
        "\n",
        "\n",
        "  test_accuracy_score=accuracy_score(y_true,y_pred)\n",
        "  test_precision_score=precision_score(y_true, y_pred,average='macro')\n",
        "  test_recall_score=recall_score(y_true,y_pred,average='macro')\n",
        "  test_f1_score=f1_score(y_true,y_true,average='macro')\n",
        "  test_cohen_kapp=cohen_kappa_score(y_true,y_pred)\n",
        "  test_matthews_corrcoef=matthews_corrcoef(y_true,y_pred)\n",
        "\n",
        "  report = classification_report(y_true, y_pred, target_names=class_names)\n",
        "  print(report)\n",
        "\n",
        "  # compute TP, TN, FP, and FN counts for each class\n",
        "  TP = cm.diagonal()\n",
        "  TN = np.sum(cm) - (np.sum(cm, axis=0) + np.sum(cm, axis=1) - TP)\n",
        "  FP = np.sum(cm, axis=0) - TP\n",
        "  FN = np.sum(cm, axis=1) - TP\n",
        "\n",
        "  # print the results\n",
        "  for i in range(num_classes):\n",
        "      print(f\"Class {i}: TP={TP[i]}, TN={TN[i]}, FP={FP[i]}, FN={FN[i]}\")\n",
        "  # Log metrics to wandb\n",
        "  wandb.log({'True Positives:': sum(TP), 'True Negative: ':sum(TN), 'False positive:': sum(FP), 'False Negative': sum(FN)})\n",
        "  wandb.log({'test_accuracy_score': test_accuracy_score,'test_precision_score': test_precision_score, 'test_recall_score':test_recall_score, 'test_f1_score': test_f1_score, 'test_cohen_kapp': test_cohen_kapp, 'test_matthews_corrcoef':test_matthews_corrcoef})\n"
      ]
    },
    {
      "cell_type": "code",
      "source": [
        "MODEL_NAME=['deit_base_patch16_224', 'deit_tiny_patch16_224', 'deit_small_patch16_224', 'deit_tiny_distilled_patch16_224', 'deit_small_distilled_patch16_224', 'deit_base_distilled_patch16_224']\n"
      ],
      "metadata": {
        "id": "ELiYLXNeHG3h"
      },
      "execution_count": 60,
      "outputs": []
    },
    {
      "cell_type": "code",
      "source": [
        "MODEL=MODEL_NAME[3]"
      ],
      "metadata": {
        "id": "JH84xnzeIKrw"
      },
      "execution_count": 61,
      "outputs": []
    },
    {
      "cell_type": "code",
      "execution_count": 62,
      "metadata": {
        "id": "bAoxqoi9TsDN",
        "colab": {
          "base_uri": "https://localhost:8080/"
        },
        "outputId": "24d75591-422f-47b0-ee71-3c7302918cdc"
      },
      "outputs": [
        {
          "output_type": "stream",
          "name": "stderr",
          "text": [
            "Using cache found in /root/.cache/torch/hub/facebookresearch_deit_main\n"
          ]
        }
      ],
      "source": [
        "\n",
        "# Set up the model\n",
        "# Define the model\n",
        "#model = torch.hub.load('facebookresearch/deit:main', 'deit_base_patch16_224', pretrained=True)\n",
        "\n",
        "model = torch.hub.load('facebookresearch/deit:main', MODEL, pretrained=True)\n",
        "\n",
        "# Replace the last layer of the model to output 6 classes instead of 1000\n",
        "\n",
        "\n",
        "\n",
        "\n",
        "epochs = 3\n",
        "batch_size = 64\n",
        "\n",
        "# Replace the last layer of the model to output 11 classes instead of 1000\n",
        "num_classes = len(class_names)\n",
        "\n",
        "model.head = nn.Linear(in_features=model.head.in_features, out_features=num_classes, bias=True)\n",
        "model.head_dist=nn.Linear(in_features=model.head.in_features, out_features=num_classes, bias=True)\n",
        "# Learning rate\n",
        "LEARNING_RATE=2e-4\n",
        "# Define the device to use\n",
        "device = torch.device(\"cuda:0\" if torch.cuda.is_available() else \"cpu\")\n",
        "model = model.to(device)\n",
        "# Define the loss function and optimizer\n",
        "criterion = nn.CrossEntropyLoss()\n",
        "optimizer = torch.optim.Adam(model.parameters(), lr=LEARNING_RATE)\n",
        "\n"
      ]
    },
    {
      "cell_type": "code",
      "execution_count": null,
      "metadata": {
        "id": "CJYGwcXjTvNP",
        "colab": {
          "base_uri": "https://localhost:8080/",
          "height": 1000
        },
        "outputId": "300ffb2a-ba0a-4ace-f91c-3b38e927759b"
      },
      "outputs": [
        {
          "output_type": "stream",
          "name": "stdout",
          "text": [
            "Fold [1/6]\n"
          ]
        },
        {
          "output_type": "display_data",
          "data": {
            "text/plain": [
              "<IPython.core.display.HTML object>"
            ],
            "text/html": [
              "Finishing last run (ID:awrbknyf) before initializing another..."
            ]
          },
          "metadata": {}
        },
        {
          "output_type": "display_data",
          "data": {
            "text/plain": [
              "<IPython.core.display.HTML object>"
            ],
            "text/html": [
              "Waiting for W&B process to finish... <strong style=\"color:green\">(success).</strong>"
            ]
          },
          "metadata": {}
        },
        {
          "output_type": "display_data",
          "data": {
            "text/plain": [
              "<IPython.core.display.HTML object>"
            ],
            "text/html": [
              "<style>\n",
              "    table.wandb td:nth-child(1) { padding: 0 10px; text-align: left ; width: auto;} td:nth-child(2) {text-align: left ; width: 100%}\n",
              "    .wandb-row { display: flex; flex-direction: row; flex-wrap: wrap; justify-content: flex-start; width: 100% }\n",
              "    .wandb-col { display: flex; flex-direction: column; flex-basis: 100%; flex: 1; padding: 10px; }\n",
              "    </style>\n",
              "<div class=\"wandb-row\"><div class=\"wandb-col\"><h3>Run history:</h3><br/><table class=\"wandb\"><tr><td>False Negative</td><td>▁</td></tr><tr><td>False positive:</td><td>▁</td></tr><tr><td>K-Fold</td><td>▁▁▁</td></tr><tr><td>Train_datasize</td><td>▁▁▁</td></tr><tr><td>True Negative: </td><td>▁</td></tr><tr><td>True Positives:</td><td>▁</td></tr><tr><td>Val_Accuracy</td><td>▂▁█</td></tr><tr><td>Val_loss</td><td>▇█▁</td></tr><tr><td>Valid_datasize</td><td>▁▁▁</td></tr><tr><td>test_accuracy_score</td><td>▁</td></tr><tr><td>test_cohen_kapp</td><td>▁</td></tr><tr><td>test_f1_score</td><td>▁</td></tr><tr><td>test_matthews_corrcoef</td><td>▁</td></tr><tr><td>test_precision_score</td><td>▁</td></tr><tr><td>test_recall_score</td><td>▁</td></tr></table><br/></div><div class=\"wandb-col\"><h3>Run summary:</h3><br/><table class=\"wandb\"><tr><td>False Negative</td><td>26</td></tr><tr><td>False positive:</td><td>26</td></tr><tr><td>K-Fold</td><td>6</td></tr><tr><td>Train_datasize</td><td>507</td></tr><tr><td>True Negative: </td><td>3014</td></tr><tr><td>True Positives:</td><td>582</td></tr><tr><td>Val_Accuracy</td><td>0.9901</td></tr><tr><td>Val_loss</td><td>0.04892</td></tr><tr><td>Valid_datasize</td><td>101</td></tr><tr><td>test_accuracy_score</td><td>0.95724</td></tr><tr><td>test_cohen_kapp</td><td>0.9486</td></tr><tr><td>test_f1_score</td><td>1.0</td></tr><tr><td>test_matthews_corrcoef</td><td>0.94887</td></tr><tr><td>test_precision_score</td><td>0.9587</td></tr><tr><td>test_recall_score</td><td>0.95719</td></tr></table><br/></div></div>"
            ]
          },
          "metadata": {}
        },
        {
          "output_type": "display_data",
          "data": {
            "text/plain": [
              "<IPython.core.display.HTML object>"
            ],
            "text/html": [
              " View run <strong style=\"color:#cdcd00\">legendary-council-205</strong> at: <a href='https://wandb.ai/aimfg-california/Zinc-Plated-Components-Classifier/runs/awrbknyf' target=\"_blank\">https://wandb.ai/aimfg-california/Zinc-Plated-Components-Classifier/runs/awrbknyf</a><br/>Synced 5 W&B file(s), 4 media file(s), 3 artifact file(s) and 0 other file(s)"
            ]
          },
          "metadata": {}
        },
        {
          "output_type": "display_data",
          "data": {
            "text/plain": [
              "<IPython.core.display.HTML object>"
            ],
            "text/html": [
              "Find logs at: <code>./wandb/run-20230504_192426-awrbknyf/logs</code>"
            ]
          },
          "metadata": {}
        },
        {
          "output_type": "display_data",
          "data": {
            "text/plain": [
              "<IPython.core.display.HTML object>"
            ],
            "text/html": [
              "Successfully finished last run (ID:awrbknyf). Initializing new run:<br/>"
            ]
          },
          "metadata": {}
        },
        {
          "output_type": "display_data",
          "data": {
            "text/plain": [
              "<IPython.core.display.HTML object>"
            ],
            "text/html": [
              "Tracking run with wandb version 0.15.1"
            ]
          },
          "metadata": {}
        },
        {
          "output_type": "display_data",
          "data": {
            "text/plain": [
              "<IPython.core.display.HTML object>"
            ],
            "text/html": [
              "Run data is saved locally in <code>/content/wandb/run-20230504_202601-3m4zgy1n</code>"
            ]
          },
          "metadata": {}
        },
        {
          "output_type": "display_data",
          "data": {
            "text/plain": [
              "<IPython.core.display.HTML object>"
            ],
            "text/html": [
              "Syncing run <strong><a href='https://wandb.ai/aimfg-california/Zinc-Plated-Components-Classifier/runs/3m4zgy1n' target=\"_blank\">imperial-fighter-206</a></strong> to <a href='https://wandb.ai/aimfg-california/Zinc-Plated-Components-Classifier' target=\"_blank\">Weights & Biases</a> (<a href='https://wandb.me/run' target=\"_blank\">docs</a>)<br/>"
            ]
          },
          "metadata": {}
        },
        {
          "output_type": "display_data",
          "data": {
            "text/plain": [
              "<IPython.core.display.HTML object>"
            ],
            "text/html": [
              " View project at <a href='https://wandb.ai/aimfg-california/Zinc-Plated-Components-Classifier' target=\"_blank\">https://wandb.ai/aimfg-california/Zinc-Plated-Components-Classifier</a>"
            ]
          },
          "metadata": {}
        },
        {
          "output_type": "display_data",
          "data": {
            "text/plain": [
              "<IPython.core.display.HTML object>"
            ],
            "text/html": [
              " View run at <a href='https://wandb.ai/aimfg-california/Zinc-Plated-Components-Classifier/runs/3m4zgy1n' target=\"_blank\">https://wandb.ai/aimfg-california/Zinc-Plated-Components-Classifier/runs/3m4zgy1n</a>"
            ]
          },
          "metadata": {}
        },
        {
          "output_type": "stream",
          "name": "stdout",
          "text": [
            "48\n",
            "Epoch [1/3], Val Loss: 0.5551, Val Acc: 0.7977\n",
            "Epoch [2/3], Val Loss: 0.1348, Val Acc: 0.9589\n",
            "Epoch [3/3], Val Loss: 0.2616, Val Acc: 0.9095\n",
            "              precision    recall  f1-score   support\n",
            "\n",
            "      Class1       0.90      1.00      0.95        98\n",
            "      Class2       1.00      0.76      0.86        90\n",
            "      Class3       0.83      0.94      0.88       101\n",
            "      Class4       0.88      0.84      0.86       113\n",
            "      Class5       1.00      0.98      0.99       113\n",
            "      Class6       0.96      1.00      0.98        93\n",
            "\n",
            "    accuracy                           0.92       608\n",
            "   macro avg       0.93      0.92      0.92       608\n",
            "weighted avg       0.93      0.92      0.92       608\n",
            "\n",
            "Class 0: TP=98, TN=499, FP=11, FN=0\n",
            "Class 1: TP=68, TN=518, FP=0, FN=22\n",
            "Class 2: TP=95, TN=487, FP=20, FN=6\n",
            "Class 3: TP=95, TN=482, FP=13, FN=18\n",
            "Class 4: TP=111, TN=495, FP=0, FN=2\n",
            "Class 5: TP=93, TN=511, FP=4, FN=0\n",
            "Fold [2/6]\n"
          ]
        },
        {
          "output_type": "display_data",
          "data": {
            "text/plain": [
              "<IPython.core.display.HTML object>"
            ],
            "text/html": [
              "Finishing last run (ID:3m4zgy1n) before initializing another..."
            ]
          },
          "metadata": {}
        },
        {
          "output_type": "display_data",
          "data": {
            "text/plain": [
              "<IPython.core.display.HTML object>"
            ],
            "text/html": [
              "Waiting for W&B process to finish... <strong style=\"color:green\">(success).</strong>"
            ]
          },
          "metadata": {}
        },
        {
          "output_type": "display_data",
          "data": {
            "text/plain": [
              "<IPython.core.display.HTML object>"
            ],
            "text/html": [
              "<style>\n",
              "    table.wandb td:nth-child(1) { padding: 0 10px; text-align: left ; width: auto;} td:nth-child(2) {text-align: left ; width: 100%}\n",
              "    .wandb-row { display: flex; flex-direction: row; flex-wrap: wrap; justify-content: flex-start; width: 100% }\n",
              "    .wandb-col { display: flex; flex-direction: column; flex-basis: 100%; flex: 1; padding: 10px; }\n",
              "    </style>\n",
              "<div class=\"wandb-row\"><div class=\"wandb-col\"><h3>Run history:</h3><br/><table class=\"wandb\"><tr><td>False Negative</td><td>▁</td></tr><tr><td>False positive:</td><td>▁</td></tr><tr><td>K-Fold</td><td>▁▁▁</td></tr><tr><td>Train_datasize</td><td>▁▁▁</td></tr><tr><td>True Negative: </td><td>▁</td></tr><tr><td>True Positives:</td><td>▁</td></tr><tr><td>Val_Accuracy</td><td>▁█▆</td></tr><tr><td>Val_loss</td><td>█▁▃</td></tr><tr><td>Valid_datasize</td><td>▁▁▁</td></tr><tr><td>test_accuracy_score</td><td>▁</td></tr><tr><td>test_cohen_kapp</td><td>▁</td></tr><tr><td>test_f1_score</td><td>▁</td></tr><tr><td>test_matthews_corrcoef</td><td>▁</td></tr><tr><td>test_precision_score</td><td>▁</td></tr><tr><td>test_recall_score</td><td>▁</td></tr></table><br/></div><div class=\"wandb-col\"><h3>Run summary:</h3><br/><table class=\"wandb\"><tr><td>False Negative</td><td>48</td></tr><tr><td>False positive:</td><td>48</td></tr><tr><td>K-Fold</td><td>1</td></tr><tr><td>Train_datasize</td><td>3040</td></tr><tr><td>True Negative: </td><td>2992</td></tr><tr><td>True Positives:</td><td>560</td></tr><tr><td>Val_Accuracy</td><td>0.90954</td></tr><tr><td>Val_loss</td><td>0.2616</td></tr><tr><td>Valid_datasize</td><td>608</td></tr><tr><td>test_accuracy_score</td><td>0.92105</td></tr><tr><td>test_cohen_kapp</td><td>0.90509</td></tr><tr><td>test_f1_score</td><td>1.0</td></tr><tr><td>test_matthews_corrcoef</td><td>0.90633</td></tr><tr><td>test_precision_score</td><td>0.92726</td></tr><tr><td>test_recall_score</td><td>0.91986</td></tr></table><br/></div></div>"
            ]
          },
          "metadata": {}
        },
        {
          "output_type": "display_data",
          "data": {
            "text/plain": [
              "<IPython.core.display.HTML object>"
            ],
            "text/html": [
              " View run <strong style=\"color:#cdcd00\">imperial-fighter-206</strong> at: <a href='https://wandb.ai/aimfg-california/Zinc-Plated-Components-Classifier/runs/3m4zgy1n' target=\"_blank\">https://wandb.ai/aimfg-california/Zinc-Plated-Components-Classifier/runs/3m4zgy1n</a><br/>Synced 5 W&B file(s), 4 media file(s), 3 artifact file(s) and 0 other file(s)"
            ]
          },
          "metadata": {}
        },
        {
          "output_type": "display_data",
          "data": {
            "text/plain": [
              "<IPython.core.display.HTML object>"
            ],
            "text/html": [
              "Find logs at: <code>./wandb/run-20230504_202601-3m4zgy1n/logs</code>"
            ]
          },
          "metadata": {}
        },
        {
          "output_type": "display_data",
          "data": {
            "text/plain": [
              "<IPython.core.display.HTML object>"
            ],
            "text/html": [
              "Successfully finished last run (ID:3m4zgy1n). Initializing new run:<br/>"
            ]
          },
          "metadata": {}
        },
        {
          "output_type": "display_data",
          "data": {
            "text/plain": [
              "<IPython.core.display.HTML object>"
            ],
            "text/html": [
              "Tracking run with wandb version 0.15.1"
            ]
          },
          "metadata": {}
        },
        {
          "output_type": "display_data",
          "data": {
            "text/plain": [
              "<IPython.core.display.HTML object>"
            ],
            "text/html": [
              "Run data is saved locally in <code>/content/wandb/run-20230504_202832-wqna9o5z</code>"
            ]
          },
          "metadata": {}
        },
        {
          "output_type": "display_data",
          "data": {
            "text/plain": [
              "<IPython.core.display.HTML object>"
            ],
            "text/html": [
              "Syncing run <strong><a href='https://wandb.ai/aimfg-california/Zinc-Plated-Components-Classifier/runs/wqna9o5z' target=\"_blank\">rebel-nerf-herder-207</a></strong> to <a href='https://wandb.ai/aimfg-california/Zinc-Plated-Components-Classifier' target=\"_blank\">Weights & Biases</a> (<a href='https://wandb.me/run' target=\"_blank\">docs</a>)<br/>"
            ]
          },
          "metadata": {}
        },
        {
          "output_type": "display_data",
          "data": {
            "text/plain": [
              "<IPython.core.display.HTML object>"
            ],
            "text/html": [
              " View project at <a href='https://wandb.ai/aimfg-california/Zinc-Plated-Components-Classifier' target=\"_blank\">https://wandb.ai/aimfg-california/Zinc-Plated-Components-Classifier</a>"
            ]
          },
          "metadata": {}
        },
        {
          "output_type": "display_data",
          "data": {
            "text/plain": [
              "<IPython.core.display.HTML object>"
            ],
            "text/html": [
              " View run at <a href='https://wandb.ai/aimfg-california/Zinc-Plated-Components-Classifier/runs/wqna9o5z' target=\"_blank\">https://wandb.ai/aimfg-california/Zinc-Plated-Components-Classifier/runs/wqna9o5z</a>"
            ]
          },
          "metadata": {}
        },
        {
          "output_type": "stream",
          "name": "stdout",
          "text": [
            "48\n",
            "Epoch [1/3], Val Loss: 0.0991, Val Acc: 0.9720\n",
            "Epoch [2/3], Val Loss: 0.0632, Val Acc: 0.9868\n",
            "Epoch [3/3], Val Loss: 0.0810, Val Acc: 0.9819\n",
            "              precision    recall  f1-score   support\n",
            "\n",
            "      Class1       1.00      0.97      0.98        98\n",
            "      Class2       0.99      1.00      0.99        90\n",
            "      Class3       0.98      0.99      0.99       101\n",
            "      Class4       1.00      0.99      1.00       113\n",
            "      Class5       0.98      1.00      0.99       113\n",
            "      Class6       1.00      1.00      1.00        93\n",
            "\n",
            "    accuracy                           0.99       608\n",
            "   macro avg       0.99      0.99      0.99       608\n",
            "weighted avg       0.99      0.99      0.99       608\n",
            "\n",
            "Class 0: TP=95, TN=510, FP=0, FN=3\n",
            "Class 1: TP=90, TN=517, FP=1, FN=0\n",
            "Class 2: TP=100, TN=505, FP=2, FN=1\n",
            "Class 3: TP=112, TN=495, FP=0, FN=1\n",
            "Class 4: TP=113, TN=493, FP=2, FN=0\n",
            "Class 5: TP=93, TN=515, FP=0, FN=0\n",
            "Fold [3/6]\n"
          ]
        },
        {
          "output_type": "display_data",
          "data": {
            "text/plain": [
              "<IPython.core.display.HTML object>"
            ],
            "text/html": [
              "Finishing last run (ID:wqna9o5z) before initializing another..."
            ]
          },
          "metadata": {}
        },
        {
          "output_type": "display_data",
          "data": {
            "text/plain": [
              "<IPython.core.display.HTML object>"
            ],
            "text/html": [
              "Waiting for W&B process to finish... <strong style=\"color:green\">(success).</strong>"
            ]
          },
          "metadata": {}
        },
        {
          "output_type": "display_data",
          "data": {
            "text/plain": [
              "<IPython.core.display.HTML object>"
            ],
            "text/html": [
              "<style>\n",
              "    table.wandb td:nth-child(1) { padding: 0 10px; text-align: left ; width: auto;} td:nth-child(2) {text-align: left ; width: 100%}\n",
              "    .wandb-row { display: flex; flex-direction: row; flex-wrap: wrap; justify-content: flex-start; width: 100% }\n",
              "    .wandb-col { display: flex; flex-direction: column; flex-basis: 100%; flex: 1; padding: 10px; }\n",
              "    </style>\n",
              "<div class=\"wandb-row\"><div class=\"wandb-col\"><h3>Run history:</h3><br/><table class=\"wandb\"><tr><td>False Negative</td><td>▁</td></tr><tr><td>False positive:</td><td>▁</td></tr><tr><td>K-Fold</td><td>▁▁▁</td></tr><tr><td>Train_datasize</td><td>▁▁▁</td></tr><tr><td>True Negative: </td><td>▁</td></tr><tr><td>True Positives:</td><td>▁</td></tr><tr><td>Val_Accuracy</td><td>▁█▆</td></tr><tr><td>Val_loss</td><td>█▁▄</td></tr><tr><td>Valid_datasize</td><td>▁▁▁</td></tr><tr><td>test_accuracy_score</td><td>▁</td></tr><tr><td>test_cohen_kapp</td><td>▁</td></tr><tr><td>test_f1_score</td><td>▁</td></tr><tr><td>test_matthews_corrcoef</td><td>▁</td></tr><tr><td>test_precision_score</td><td>▁</td></tr><tr><td>test_recall_score</td><td>▁</td></tr></table><br/></div><div class=\"wandb-col\"><h3>Run summary:</h3><br/><table class=\"wandb\"><tr><td>False Negative</td><td>5</td></tr><tr><td>False positive:</td><td>5</td></tr><tr><td>K-Fold</td><td>2</td></tr><tr><td>Train_datasize</td><td>3040</td></tr><tr><td>True Negative: </td><td>3035</td></tr><tr><td>True Positives:</td><td>603</td></tr><tr><td>Val_Accuracy</td><td>0.98191</td></tr><tr><td>Val_loss</td><td>0.08102</td></tr><tr><td>Valid_datasize</td><td>608</td></tr><tr><td>test_accuracy_score</td><td>0.99178</td></tr><tr><td>test_cohen_kapp</td><td>0.99012</td></tr><tr><td>test_f1_score</td><td>1.0</td></tr><tr><td>test_matthews_corrcoef</td><td>0.99014</td></tr><tr><td>test_precision_score</td><td>0.992</td></tr><tr><td>test_recall_score</td><td>0.99177</td></tr></table><br/></div></div>"
            ]
          },
          "metadata": {}
        },
        {
          "output_type": "display_data",
          "data": {
            "text/plain": [
              "<IPython.core.display.HTML object>"
            ],
            "text/html": [
              " View run <strong style=\"color:#cdcd00\">rebel-nerf-herder-207</strong> at: <a href='https://wandb.ai/aimfg-california/Zinc-Plated-Components-Classifier/runs/wqna9o5z' target=\"_blank\">https://wandb.ai/aimfg-california/Zinc-Plated-Components-Classifier/runs/wqna9o5z</a><br/>Synced 5 W&B file(s), 4 media file(s), 3 artifact file(s) and 0 other file(s)"
            ]
          },
          "metadata": {}
        },
        {
          "output_type": "display_data",
          "data": {
            "text/plain": [
              "<IPython.core.display.HTML object>"
            ],
            "text/html": [
              "Find logs at: <code>./wandb/run-20230504_202832-wqna9o5z/logs</code>"
            ]
          },
          "metadata": {}
        },
        {
          "output_type": "display_data",
          "data": {
            "text/plain": [
              "<IPython.core.display.HTML object>"
            ],
            "text/html": [
              "Successfully finished last run (ID:wqna9o5z). Initializing new run:<br/>"
            ]
          },
          "metadata": {}
        },
        {
          "output_type": "display_data",
          "data": {
            "text/plain": [
              "<IPython.core.display.HTML object>"
            ],
            "text/html": [
              "Tracking run with wandb version 0.15.1"
            ]
          },
          "metadata": {}
        },
        {
          "output_type": "display_data",
          "data": {
            "text/plain": [
              "<IPython.core.display.HTML object>"
            ],
            "text/html": [
              "Run data is saved locally in <code>/content/wandb/run-20230504_203108-24h6j0ll</code>"
            ]
          },
          "metadata": {}
        },
        {
          "output_type": "display_data",
          "data": {
            "text/plain": [
              "<IPython.core.display.HTML object>"
            ],
            "text/html": [
              "Syncing run <strong><a href='https://wandb.ai/aimfg-california/Zinc-Plated-Components-Classifier/runs/24h6j0ll' target=\"_blank\">stellar-force-208</a></strong> to <a href='https://wandb.ai/aimfg-california/Zinc-Plated-Components-Classifier' target=\"_blank\">Weights & Biases</a> (<a href='https://wandb.me/run' target=\"_blank\">docs</a>)<br/>"
            ]
          },
          "metadata": {}
        },
        {
          "output_type": "display_data",
          "data": {
            "text/plain": [
              "<IPython.core.display.HTML object>"
            ],
            "text/html": [
              " View project at <a href='https://wandb.ai/aimfg-california/Zinc-Plated-Components-Classifier' target=\"_blank\">https://wandb.ai/aimfg-california/Zinc-Plated-Components-Classifier</a>"
            ]
          },
          "metadata": {}
        },
        {
          "output_type": "display_data",
          "data": {
            "text/plain": [
              "<IPython.core.display.HTML object>"
            ],
            "text/html": [
              " View run at <a href='https://wandb.ai/aimfg-california/Zinc-Plated-Components-Classifier/runs/24h6j0ll' target=\"_blank\">https://wandb.ai/aimfg-california/Zinc-Plated-Components-Classifier/runs/24h6j0ll</a>"
            ]
          },
          "metadata": {}
        },
        {
          "output_type": "stream",
          "name": "stdout",
          "text": [
            "48\n"
          ]
        }
      ],
      "source": [
        "# Set up k-fold cross-validation\n",
        "k = len(class_names)\n",
        "kf = KFold(n_splits=k, shuffle=True, random_state=42)\n",
        "\n",
        "# Train the model with k-fold cross-validation\n",
        "for fold, (train_idx, val_idx) in enumerate(kf.split(train_data)):\n",
        "  print(f'Fold [{fold+1}/{k}]')\n",
        "  project = \"Zinc-Plated-Components-Classifier\"\n",
        "  config = {\"batch_size\": batch_size, \"epochs\": epochs, \"architecture\": MODEL,'LEARNING_RATE': LEARNING_RATE}\n",
        "  wandb.init(entity=\"aimfg-california\",project=project,mode=\"online\",config=config)\n",
        "\n",
        "  train_sampler = torch.utils.data.SubsetRandomSampler(train_idx)\n",
        "  \n",
        "  val_sampler = torch.utils.data.SubsetRandomSampler(val_idx)\n",
        "\n",
        "  train_loader = DataLoader(train_data, batch_size=batch_size, sampler=train_sampler)\n",
        "  print(len(train_loader))\n",
        "  val_loader = DataLoader(train_data, batch_size=64, sampler=val_sampler)\n",
        "\n",
        "  for epoch in range(epochs):\n",
        "      #model.train()\n",
        "      for images, labels in train_loader:\n",
        "          optimizer.zero_grad()\n",
        "          images = images.to(device)\n",
        "          labels = labels.to(device)\n",
        "          if MODEL=='deit_tiny_distilled_patch16_22' or MODEL=='deit_small_distilled_patch16_224':\n",
        "            outputs, _ = model(images)  # assuming that the first element of the tuple is the relevant tensor\n",
        "          else:  \n",
        "            outputs = model(images) # use the first tensor in the tupleoutputs = model(images)\n",
        "            if isinstance(outputs, tuple):\n",
        "              output = torch.cat(outputs, dim=1)\n",
        "            else:\n",
        "              output = outputs\n",
        "          #output = torch.cat(outputs, dim=1)\n",
        "          loss = criterion(output, labels)\n",
        "          loss.backward()\n",
        "          optimizer.step()\n",
        "\n",
        "      model.eval()\n",
        "      with torch.no_grad():\n",
        "          total_loss, total_correct = 0, 0\n",
        "          for images, labels in val_loader:\n",
        "              images = images.to(device)\n",
        "              labels = labels.to(device)\n",
        "              if MODEL=='deit_tiny_distilled_patch16_22' or MODEL=='deit_small_distilled_patch16_224':\n",
        "                outputs, _ = model(images)  # assuming that the first element of the tuple is the relevant tensor\n",
        "              else:  \n",
        "                outputs = model(images) # use the first tensor in the tupleoutputs = model(images)\n",
        "              #output = torch.cat(outputs, dim=1)\n",
        "              loss = criterion(outputs, labels)\n",
        "              total_loss += loss.item() * images.size(0)\n",
        "              total_correct += (outputs.argmax(1) == labels).sum().item()\n",
        "\n",
        "          val_loss = total_loss / len(val_loader.sampler)\n",
        "          val_acc = total_correct / len(val_loader.sampler)\n",
        "\n",
        "      print(f'Epoch [{epoch+1}/{epochs}], Val Loss: {val_loss:.4f}, Val Acc: {val_acc:.4f}')\n",
        "            # Log metrics to wandb\n",
        "\n",
        "      wandb.log({'K-Fold': fold+1, 'Train_datasize': len(train_idx), 'Valid_datasize': len(val_idx), 'Val_loss': val_loss,'Val_Accuracy': val_acc})\n",
        "            \n",
        "\n",
        "  # Save the model weights for this fold\n",
        "  #torch.save(model.state_dict(), f'deit_fold_{fold}.pth')\n",
        "  testing(test_loader)\n",
        "   \n",
        "\n"
      ]
    },
    {
      "cell_type": "code",
      "execution_count": null,
      "metadata": {
        "id": "_4uN1OjrTxmp"
      },
      "outputs": [],
      "source": [
        "wandb.finish()"
      ]
    }
  ],
  "metadata": {
    "accelerator": "GPU",
    "colab": {
      "provenance": [],
      "machine_shape": "hm",
      "gpuType": "A100",
      "include_colab_link": true
    },
    "gpuClass": "standard",
    "kernelspec": {
      "display_name": "Python 3",
      "name": "python3"
    },
    "language_info": {
      "name": "python"
    }
  },
  "nbformat": 4,
  "nbformat_minor": 0
}